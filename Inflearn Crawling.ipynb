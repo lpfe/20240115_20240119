{
 "cells": [
  {
   "cell_type": "code",
   "execution_count": 1,
   "id": "69b47406",
   "metadata": {},
   "outputs": [],
   "source": [
    "from selenium import webdriver\n",
    "from selenium.webdriver.common.by import By\n",
    "import pandas as pd\n",
    "import time\n",
    "import re\n",
    "\n"
   ]
  },
  {
   "cell_type": "code",
   "execution_count": 3,
   "id": "daa81a3e",
   "metadata": {},
   "outputs": [],
   "source": [
    "driver = webdriver.Chrome()\n",
    "driver.get('https://www.inflearn.com/courses/life?order=seq')"
   ]
  },
  {
   "cell_type": "code",
   "execution_count": 4,
   "id": "f37da0c0",
   "metadata": {},
   "outputs": [],
   "source": [
    "def inflearn_programming_crawling():\n",
    "    \n",
    "    for i in range(1,10000):\n",
    "        title1=driver.find_element(\n",
    "            By.XPATH, f'//*[@id=\"courses_section\"]/div/div/div/main/div[4]/div/div[1]/div/a/div[2]/div[1]').text\n",
    "        driver.get(f'https://www.inflearn.com/courses/it-programming?order=seq&page={i}')\n",
    "        time.sleep(.5)\n",
    "        \n",
    "        title2=driver.find_element(\n",
    "            By.XPATH, f'//*[@id=\"courses_section\"]/div/div/div/main/div[4]/div/div[1]/div/a/div[2]/div[1]').text\n",
    "        if title1 == title2:\n",
    "            break\n",
    "        else:\n",
    "            pass"
   ]
  },
  {
   "cell_type": "code",
   "execution_count": 5,
   "id": "5c64218f",
   "metadata": {},
   "outputs": [],
   "source": [
    "def inflearn_game_crawling():\n",
    "    \n",
    "    for i in range(1,10000):\n",
    "        title1=driver.find_element(\n",
    "            By.XPATH, f'//*[@id=\"courses_section\"]/div/div/div/main/div[4]/div/div[1]/div/a/div[2]/div[1]').text\n",
    "        driver.get(f'https://www.inflearn.com/courses/game-dev-all?order=seq&page={i}')\n",
    "        time.sleep(.5)\n",
    "        \n",
    "        title2=driver.find_element(\n",
    "            By.XPATH, f'//*[@id=\"courses_section\"]/div/div/div/main/div[4]/div/div[1]/div/a/div[2]/div[1]').text\n",
    "        if title1 == title2:\n",
    "            break\n",
    "        else:\n",
    "            pass\n",
    "        "
   ]
  },
  {
   "cell_type": "code",
   "execution_count": 6,
   "id": "7699030d",
   "metadata": {},
   "outputs": [],
   "source": [
    "def inflearn_data_crawling():\n",
    "    \n",
    "    for i in range(1,10000):\n",
    "        title1=driver.find_element(\n",
    "            By.XPATH, f'//*[@id=\"courses_section\"]/div/div/div/main/div[4]/div/div[1]/div/a/div[2]/div[1]').text\n",
    "        driver.get(f'https://www.inflearn.com/courses/data-science?order=seq&page={i}')\n",
    "        time.sleep(.5)\n",
    "        \n",
    "        title2=driver.find_element(\n",
    "            By.XPATH, f'//*[@id=\"courses_section\"]/div/div/div/main/div[4]/div/div[1]/div/a/div[2]/div[1]').text\n",
    "        if title1 == title2:\n",
    "            break\n",
    "        else:\n",
    "            pass"
   ]
  },
  {
   "cell_type": "code",
   "execution_count": 7,
   "id": "45e7bd7a",
   "metadata": {},
   "outputs": [],
   "source": [
    "def inflearn_secure_crawling():\n",
    "    \n",
    "    for i in range(1,10000):\n",
    "        title1=driver.find_element(\n",
    "            By.XPATH, f'//*[@id=\"courses_section\"]/div/div/div/main/div[4]/div/div[1]/div/a/div[2]/div[1]').text\n",
    "        driver.get(f'https://www.inflearn.com/courses/it?order=seq&page={i}')\n",
    "        time.sleep(.5)\n",
    "        \n",
    "        title2=driver.find_element(\n",
    "            By.XPATH, f'//*[@id=\"courses_section\"]/div/div/div/main/div[4]/div/div[1]/div/a/div[2]/div[1]').text\n",
    "        if title1 == title2:\n",
    "            break\n",
    "        else:\n",
    "            pass"
   ]
  },
  {
   "cell_type": "code",
   "execution_count": 8,
   "id": "593b44c8",
   "metadata": {},
   "outputs": [],
   "source": [
    "def inflearn_business_crawling():\n",
    "    \n",
    "    for i in range(1,10000):\n",
    "        title1=driver.find_element(\n",
    "            By.XPATH, f'//*[@id=\"courses_section\"]/div/div/div/main/div[4]/div/div[1]/div/a/div[2]/div[1]').text\n",
    "        driver.get(f'https://www.inflearn.com/courses/business?order=seq&page={i}')\n",
    "        time.sleep(.5)\n",
    "        \n",
    "        title2=driver.find_element(\n",
    "            By.XPATH, f'//*[@id=\"courses_section\"]/div/div/div/main/div[4]/div/div[1]/div/a/div[2]/div[1]').text\n",
    "        if title1 == title2:\n",
    "            break\n",
    "        else:\n",
    "            pass"
   ]
  },
  {
   "cell_type": "code",
   "execution_count": 9,
   "id": "736363f1",
   "metadata": {},
   "outputs": [],
   "source": [
    "def inflearn_hardware_crawling():\n",
    "    \n",
    "    for i in range(1,10000):\n",
    "        page = 1\n",
    "        title1=driver.find_element(\n",
    "            By.XPATH, f'//*[@id=\"courses_section\"]/div/div/div/main/div[4]/div/div[1]/div/a/div[2]/div[1]').text\n",
    "        driver.get(f'https://www.inflearn.com/courses/hardware?order=seq&page={i}')\n",
    "        time.sleep(.5)\n",
    "        \n",
    "        title2=driver.find_element(\n",
    "            By.XPATH, f'//*[@id=\"courses_section\"]/div/div/div/main/div[4]/div/div[1]/div/a/div[2]/div[1]').text\n",
    "        \n",
    "        if page >=2:\n",
    "            if title1 == title2:\n",
    "                break\n",
    "            else:\n",
    "                pass\n",
    "            \n",
    "        page +=1"
   ]
  },
  {
   "cell_type": "code",
   "execution_count": 13,
   "id": "8fbddf7d",
   "metadata": {},
   "outputs": [],
   "source": [
    "#입문\n",
    "driver.find_element(By.XPATH, '//*[@id=\"courses_section\"]/div/div/div/main/div[3]/nav/div[1]/button').click()"
   ]
  },
  {
   "cell_type": "code",
   "execution_count": 14,
   "id": "cb90a089",
   "metadata": {},
   "outputs": [],
   "source": [
    "#초급\n",
    "driver.find_element(By.XPATH, '//*[@id=\"courses_section\"]/div/div/div/main/div[3]/nav/div[2]/button').click()"
   ]
  },
  {
   "cell_type": "code",
   "execution_count": 15,
   "id": "1097aad1",
   "metadata": {},
   "outputs": [],
   "source": [
    "#중급\n",
    "driver.find_element(By.XPATH, '//*[@id=\"courses_section\"]/div/div/div/main/div[3]/nav/div[3]/button').click()"
   ]
  },
  {
   "cell_type": "code",
   "execution_count": null,
   "id": "ce3d2649",
   "metadata": {},
   "outputs": [],
   "source": []
  }
 ],
 "metadata": {
  "kernelspec": {
   "display_name": "Python 3 (ipykernel)",
   "language": "python",
   "name": "python3"
  },
  "language_info": {
   "codemirror_mode": {
    "name": "ipython",
    "version": 3
   },
   "file_extension": ".py",
   "mimetype": "text/x-python",
   "name": "python",
   "nbconvert_exporter": "python",
   "pygments_lexer": "ipython3",
   "version": "3.11.5"
  }
 },
 "nbformat": 4,
 "nbformat_minor": 5
}
