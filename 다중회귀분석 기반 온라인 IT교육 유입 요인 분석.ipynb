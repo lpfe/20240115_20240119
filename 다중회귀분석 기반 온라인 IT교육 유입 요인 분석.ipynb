{
 "cells": [
  {
   "cell_type": "code",
   "execution_count": null,
   "id": "40af5096",
   "metadata": {},
   "outputs": [],
   "source": [
    "from selenium import webdriver\n",
    "from selenium.webdriver.common.by import By\n",
    "import pandas as pd\n",
    "import time\n",
    "import re\n",
    "from selenium.webdriver.support.ui import WebDriverWait\n",
    "from selenium.webdriver.support import expected_conditions as EC"
   ]
  },
  {
   "cell_type": "code",
   "execution_count": null,
   "id": "6ed81e72",
   "metadata": {},
   "outputs": [],
   "source": []
  },
  {
   "cell_type": "code",
   "execution_count": null,
   "id": "84061152",
   "metadata": {},
   "outputs": [],
   "source": [
    "driver = webdriver.Chrome()"
   ]
  },
  {
   "cell_type": "code",
   "execution_count": null,
   "id": "15b25ce4",
   "metadata": {},
   "outputs": [],
   "source": []
  },
  {
   "cell_type": "code",
   "execution_count": null,
   "id": "7a428d0a",
   "metadata": {},
   "outputs": [],
   "source": [
    "driver.get('https://www.inflearn.com/courses/it-programming')"
   ]
  },
  {
   "cell_type": "code",
   "execution_count": null,
   "id": "17ac5feb",
   "metadata": {},
   "outputs": [],
   "source": []
  },
  {
   "cell_type": "code",
   "execution_count": null,
   "id": "255918ac",
   "metadata": {},
   "outputs": [],
   "source": [
    "data_list = []\n",
    "\n",
    "for i in range(1,25):\n",
    "    # 가격\n",
    "    class_price = driver.find_element(By.XPATH, f'//*[@id=\"courses_section\"]/div/div/div/main/div[4]/div/div[{i}]/div/a/div[2]/div[4]').text\n",
    "\n",
    "    time.sleep(1)\n",
    "    # 항목 클릭\n",
    "    element = WebDriverWait(driver, 3).until(EC.element_to_be_clickable((By.XPATH, f'//*[@id=\"courses_section\"]/div/div/div/main/div[4]/div/div[{i}]/div/a/div[1]/figure/img')))\n",
    "    driver.execute_script(\"arguments[0].click();\", element)\n",
    "#     driver.find_element(By.XPATH, f'/html/body/div[1]/main/section/div/div/div/main/div[4]/div/div[{i}]/div/a/div[1]/figure/img').click()\n",
    "    time.sleep(1)\n",
    "    \n",
    "    # 강좌명\n",
    "    class_name = driver.find_element(By.XPATH, '//*[@id=\"main\"]/section/div[1]/div[1]/div/div/div[2]/div[2]/h1').text\n",
    "    \n",
    "    # 강의생 수\n",
    "    class_stunum = driver.find_element(By.XPATH, '//*[@id=\"main\"]/section/div[1]/div[1]/div/div/div[2]/div[3]/span[2]/strong').text\n",
    "\n",
    "    # 평점\n",
    "    class_grade = driver.find_element(By.XPATH, '//*[@id=\"main\"]/section/div[1]/div[1]/div/div/div[2]/div[3]/span[1]/strong').text\n",
    "\n",
    "\n",
    "    # 가격\n",
    "    # class_price = driver.find_element(By.XPATH, '//*[@id=\"main\"]/section/div[3]/div/div/div[2]/aside/div[2]/div[1]/div[1]/div[1]/p').text\n",
    "\n",
    "    # //*[@id=\"courses_section\"]/div/div/div/main/div[4]/div/div[1]/div/a/div[2]/div[4]\n",
    "    # //*[@id=\"courses_section\"]/div/div/div/main/div[4]/div/div[2]/div/a/div[2]/div[4]\n",
    "\n",
    "\n",
    "    # 난이도\n",
    "    class_level = driver.find_element(By.XPATH, '//*[@id=\"description\"]/h2[1]/strong[1]').text\n",
    "\n",
    "    # 강의 총 시간\n",
    "    if \"얼리버드\" in driver.find_element(By.XPATH, '//*[@id=\"main\"]/section/div[3]/div/div/div[2]/aside/div[2]/div/div[1]').text :\n",
    "        class_time = driver.find_element(By.XPATH, '//*[@id=\"main\"]/section/div[3]/div/div/div[2]/aside/div[2]/div[1]/div[3]/div/div[2]').text\n",
    "        \n",
    "    elif \"신규\" in driver.find_element(By.XPATH, '//*[@id=\"main\"]/section/div[3]/div/div/div[2]/aside/div[2]/div/div[1]').text:\n",
    "        class_time = driver.find_element(By.XPATH, '//*[@id=\"main\"]/section/div[3]/div/div/div[2]/aside/div[2]/div[1]/div[3]/div/div[2]').text\n",
    "    \n",
    "    else :\n",
    "        class_time = driver.find_element(By.XPATH, '//*[@id=\"main\"]/section/div[3]/div/div/div[2]/aside/div[2]/div[1]/div[2]/div/div[2]').text\n",
    "\n",
    "    \n",
    "    data_list.append([class_name,class_stunum, class_price, class_grade, class_level, class_time])\n",
    "    \n",
    "    driver.back()\n",
    "    time.sleep(1)\n",
    "df = pd.DataFrame(data_list, columns = ['강좌명','강의생 수', '가격', '평점', '난이도', '강의시간'])\n",
    "df"
   ]
  }
 ],
 "metadata": {
  "kernelspec": {
   "display_name": "Python 3 (ipykernel)",
   "language": "python",
   "name": "python3"
  },
  "language_info": {
   "codemirror_mode": {
    "name": "ipython",
    "version": 3
   },
   "file_extension": ".py",
   "mimetype": "text/x-python",
   "name": "python",
   "nbconvert_exporter": "python",
   "pygments_lexer": "ipython3",
   "version": "3.11.5"
  }
 },
 "nbformat": 4,
 "nbformat_minor": 5
}
