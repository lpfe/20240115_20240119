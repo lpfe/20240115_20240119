{
 "cells": [
  {
   "cell_type": "code",
   "execution_count": null,
   "id": "40af5096",
   "metadata": {},
   "outputs": [],
   "source": [
    "from selenium import webdriver\n",
    "from selenium.webdriver.common.by import By\n",
    "import pandas as pd\n",
    "import time\n",
    "import re"
   ]
  },
  {
   "cell_type": "code",
   "execution_count": null,
   "id": "6ed81e72",
   "metadata": {},
   "outputs": [],
   "source": []
  },
  {
   "cell_type": "code",
   "execution_count": null,
   "id": "84061152",
   "metadata": {},
   "outputs": [],
   "source": [
    "driver = webdriver.Chrome()"
   ]
  },
  {
   "cell_type": "code",
   "execution_count": null,
   "id": "15b25ce4",
   "metadata": {},
   "outputs": [],
   "source": []
  },
  {
   "cell_type": "code",
   "execution_count": null,
   "id": "7a428d0a",
   "metadata": {},
   "outputs": [],
   "source": [
    "driver.get('https://www.inflearn.com/courses/it-programming')"
   ]
  },
  {
   "cell_type": "code",
   "execution_count": null,
   "id": "17ac5feb",
   "metadata": {},
   "outputs": [],
   "source": []
  },
  {
   "cell_type": "code",
   "execution_count": null,
   "id": "003f21e6",
   "metadata": {},
   "outputs": [],
   "source": [
    "driver.find_element(By.XPATH, '//*[@id=\"courses_section\"]/div/div/div/main/div[4]/div/div[1]/div/a/div[2]/div[1]').click()"
   ]
  },
  {
   "cell_type": "markdown",
   "id": "ef6b6035",
   "metadata": {},
   "source": [
    "//*[@id=\"courses_section\"]/div/div/div/main/div[4]/div/div[1]/div/a/div[2]/div[1]\n",
    "\n",
    "//*[@id=\"courses_section\"]/div/div/div/main/div[4]/div/div[2]/div/a/div[2]/div[1]\n",
    "\n",
    "//*[@id=\"courses_section\"]/div/div/div/main/div[4]/div/div[3]/div/a/div[2]/div[1]\n",
    "\n",
    "//*[@id=\"courses_section\"]/div/div/div/main/div[4]/div/div[4]/div/a/div[2]/div[1]\n",
    "\n",
    "//*[@id=\"courses_section\"]/div/div/div/main/div[4]/div/div[5]/div/a/div[2]/div[1]"
   ]
  },
  {
   "cell_type": "code",
   "execution_count": null,
   "id": "255918ac",
   "metadata": {},
   "outputs": [],
   "source": []
  },
  {
   "cell_type": "code",
   "execution_count": null,
   "id": "77317490",
   "metadata": {},
   "outputs": [],
   "source": [
    "# 강좌명\n",
    "driver.find_element(By.XPATH, '//*[@id=\"main\"]/section/div[1]/div[1]/div/div/div[2]/div[2]/h1').text"
   ]
  },
  {
   "cell_type": "markdown",
   "id": "aac8921c",
   "metadata": {},
   "source": [
    "//*[@id=\"main\"]/section/div[1]/div[1]/div/div/div[2]/div[2]/h1"
   ]
  }
 ],
 "metadata": {
  "kernelspec": {
   "display_name": "Python 3 (ipykernel)",
   "language": "python",
   "name": "python3"
  },
  "language_info": {
   "codemirror_mode": {
    "name": "ipython",
    "version": 3
   },
   "file_extension": ".py",
   "mimetype": "text/x-python",
   "name": "python",
   "nbconvert_exporter": "python",
   "pygments_lexer": "ipython3",
   "version": "3.11.5"
  }
 },
 "nbformat": 4,
 "nbformat_minor": 5
}
