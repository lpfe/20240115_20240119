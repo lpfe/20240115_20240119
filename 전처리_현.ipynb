{
 "cells": [
  {
   "cell_type": "code",
   "execution_count": 4,
   "id": "6ae6bfe2",
   "metadata": {},
   "outputs": [],
   "source": [
    "# numpy,pandas\n",
    "import numpy as np\n",
    "import pandas as pd\n",
    "# vis\n",
    "import seaborn as sns\n",
    "import math\n",
    "import matplotlib.pyplot as plt\n",
    "from matplotlib import font_manager, rc\n",
    "# kr\n",
    "font_path = \"C:/Windows/Fonts/malgun.ttf\"\n",
    "font_name = font_manager.FontProperties(fname=font_path).get_name()\n",
    "rc('font', family=font_name)\n",
    "# stats\n",
    "from scipy import stats\n",
    "from scipy.stats import shapiro\n",
    "from scipy.stats import anderson\n",
    "from scipy.stats import bartlett\n",
    "from scipy.stats import levene\n",
    "from scipy.stats import pearsonr\n",
    "import statsmodels.api as sm\n",
    "from statsmodels.formula.api import ols\n",
    "# 원하는 csv파일을 불러옵니다.\n",
    "df = pd.read_csv('데이터 찐최종본(완).csv')\n",
    "pd.set_option('display.max_rows', None)\n",
    "\n",
    "# 새로운 열 이름을 생성하고 열 이름을 변경합니다.\n",
    "new_columns = ['강좌명','수강생수','가격','평점','수강평수','난이도','강의시간','강의게시일']\n",
    "df.columns = new_columns\n",
    "\n",
    "\n",
    "# 각각의 속성을 원하는 시각화를 위해 형태를 바꿔줍니다. -> 시각화를 위한 데이터프레임을 생성합니다.\n",
    "df['강좌명'] = df['강좌명'].str.replace('\\n대시보드', '')\n",
    "df['강의게시일'] = pd.to_datetime(df['강의게시일'].str.extract(r'(\\d+)년 (\\d+)월 (\\d+)일').agg('-'.join, axis=1))\n",
    "df['수강평수'] = df['수강평수'].str.extract(r'(\\d+)개의').fillna(0).astype(int)\n",
    "df['수강생수'] = df['수강생수'].str.replace('명', '')\n",
    "df['수강생수'] = df['수강생수'].str.replace(',', '').astype(int)\n",
    "df['가격'] = df['가격'].replace('무료', '₩0')\n",
    "df['가격'] = df['가격'].str.extract(r'₩([^₩]+)$')\n",
    "df['가격'] = df['가격'].str.replace(',', '').astype(int)\n",
    "df['시간'] = df['강의시간'].str.extract(r'(\\d+)시간', expand=False).fillna(0)\n",
    "df['분'] = df['강의시간'].str.extract(r'(\\d+)분', expand=False).fillna(0)\n",
    "df['강의시간_분'] = df['시간'].astype(int)*60 + df['분'].astype(int)\n",
    "df = df.drop(['시간', '분', '강의시간'], axis=1)\n",
    "df['평점'] = df['평점'].str.extract(r'([\\d.]+)').fillna(0).astype(float)\n",
    "df['무료/유료'] = df['가격'].apply(lambda x: '무료' if x == 0 else '유료')\n",
    "df['평가지수'] = df['수강평수'] * df['평점']\n",
    "# 중복되는 행을 제거해줍니다.\n",
    "df = df.drop_duplicates('강좌명', keep='first')\n",
    "\n",
    "\n",
    "\n",
    "# 회귀 분석을 위한 데이터프레임을 생성합니다.\n",
    "df_regression = df.copy()\n",
    "df_regression = pd.concat([df_regression, pd.get_dummies(df_regression['난이도'], prefix='난이도')], axis=1)\n",
    "df_regression['유무료'] = df['무료/유료'].apply(lambda x: 1 if x == '유료' else 0) #유료(1)/무료(0)\n",
    "df_regression= df_regression.drop(['난이도', '무료/유료'], axis=1)"
   ]
  },
  {
   "cell_type": "code",
   "execution_count": 5,
   "id": "2f51892b",
   "metadata": {},
   "outputs": [
    {
     "name": "stdout",
     "output_type": "stream",
     "text": [
      "0\n",
      "0\n",
      "<class 'pandas.core.frame.DataFrame'>\n",
      "Int64Index: 1703 entries, 0 to 2786\n",
      "Data columns (total 12 columns):\n",
      " #   Column   Non-Null Count  Dtype         \n",
      "---  ------   --------------  -----         \n",
      " 0   강좌명      1703 non-null   object        \n",
      " 1   수강생수     1703 non-null   int32         \n",
      " 2   가격       1703 non-null   int32         \n",
      " 3   평점       1703 non-null   float64       \n",
      " 4   수강평수     1703 non-null   int32         \n",
      " 5   강의게시일    1703 non-null   datetime64[ns]\n",
      " 6   강의시간_분   1703 non-null   int32         \n",
      " 7   평가지수     1703 non-null   float64       \n",
      " 8   난이도_입문자  1703 non-null   uint8         \n",
      " 9   난이도_중급자  1703 non-null   uint8         \n",
      " 10  난이도_초급자  1703 non-null   uint8         \n",
      " 11  유무료      1703 non-null   int64         \n",
      "dtypes: datetime64[ns](1), float64(2), int32(4), int64(1), object(1), uint8(3)\n",
      "memory usage: 111.4+ KB\n"
     ]
    }
   ],
   "source": [
    "df1=df_regression.copy()\n",
    "df1 = df1[df1['평점'] != 0]\n",
    "df1 = df1[df1['강의시간_분'] != 0]\n",
    "print(len(df1.loc[df1['평점'] == 0]))\n",
    "print(len(df1.loc[df1['강의시간_분'] == 0]))\n",
    "df1.info()"
   ]
  },
  {
   "cell_type": "code",
   "execution_count": 6,
   "id": "fa3c8d37",
   "metadata": {},
   "outputs": [],
   "source": [
    "# outliers remeove\n",
    "def remove_outliers_iqr(df1, column):\n",
    "    Q1 = df1[column].quantile(0.25)\n",
    "    Q3 = df1[column].quantile(0.75)\n",
    "    IQR = Q3 - Q1\n",
    "    lower_bound = Q1 - 1.5 * IQR\n",
    "    upper_bound = Q3 + 1.5 * IQR\n",
    "    return df1[(df1[column] >= lower_bound) & (df1[column] <= upper_bound)].reset_index(drop=True)\n",
    "\n",
    "columns_to_remove_outliers = ['수강생수', '가격', '강의시간_분']\n",
    "for column in columns_to_remove_outliers:\n",
    "    df1 = remove_outliers_iqr(df1, column)"
   ]
  },
  {
   "cell_type": "code",
   "execution_count": null,
   "id": "e0d9a78f",
   "metadata": {},
   "outputs": [],
   "source": []
  },
  {
   "cell_type": "code",
   "execution_count": null,
   "id": "25def8e7",
   "metadata": {},
   "outputs": [],
   "source": []
  },
  {
   "cell_type": "code",
   "execution_count": null,
   "id": "fce90e62",
   "metadata": {},
   "outputs": [],
   "source": []
  },
  {
   "cell_type": "code",
   "execution_count": null,
   "id": "8edeb026",
   "metadata": {},
   "outputs": [],
   "source": []
  },
  {
   "cell_type": "code",
   "execution_count": null,
   "id": "e1bae24a",
   "metadata": {},
   "outputs": [],
   "source": []
  },
  {
   "cell_type": "code",
   "execution_count": null,
   "id": "ebbc3402",
   "metadata": {},
   "outputs": [],
   "source": []
  },
  {
   "cell_type": "code",
   "execution_count": null,
   "id": "3eb4ecff",
   "metadata": {},
   "outputs": [],
   "source": []
  },
  {
   "cell_type": "code",
   "execution_count": null,
   "id": "c41b6e37",
   "metadata": {},
   "outputs": [],
   "source": []
  },
  {
   "cell_type": "code",
   "execution_count": null,
   "id": "b638f57e",
   "metadata": {},
   "outputs": [],
   "source": []
  },
  {
   "cell_type": "code",
   "execution_count": null,
   "id": "7ba95762",
   "metadata": {},
   "outputs": [],
   "source": []
  },
  {
   "cell_type": "code",
   "execution_count": null,
   "id": "c4d31519",
   "metadata": {},
   "outputs": [],
   "source": []
  }
 ],
 "metadata": {
  "kernelspec": {
   "display_name": "Python 3 (ipykernel)",
   "language": "python",
   "name": "python3"
  },
  "language_info": {
   "codemirror_mode": {
    "name": "ipython",
    "version": 3
   },
   "file_extension": ".py",
   "mimetype": "text/x-python",
   "name": "python",
   "nbconvert_exporter": "python",
   "pygments_lexer": "ipython3",
   "version": "3.9.13"
  }
 },
 "nbformat": 4,
 "nbformat_minor": 5
}
